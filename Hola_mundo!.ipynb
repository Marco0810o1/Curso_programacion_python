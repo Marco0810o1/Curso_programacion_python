{
  "nbformat": 4,
  "nbformat_minor": 0,
  "metadata": {
    "colab": {
      "provenance": [],
      "authorship_tag": "ABX9TyPDqQ501so+dKr+6SOGlt8x",
      "include_colab_link": true
    },
    "kernelspec": {
      "name": "python3",
      "display_name": "Python 3"
    },
    "language_info": {
      "name": "python"
    }
  },
  "cells": [
    {
      "cell_type": "markdown",
      "metadata": {
        "id": "view-in-github",
        "colab_type": "text"
      },
      "source": [
        "<a href=\"https://colab.research.google.com/github/Marco0810o1/Curso_programacion_python/blob/main/Hola_mundo!.ipynb\" target=\"_parent\"><img src=\"https://colab.research.google.com/assets/colab-badge.svg\" alt=\"Open In Colab\"/></a>"
      ]
    },
    {
      "cell_type": "markdown",
      "source": [
        "#Mi primer Código python"
      ],
      "metadata": {
        "id": "aHdN7o4DujH3"
      }
    },
    {
      "cell_type": "code",
      "execution_count": 1,
      "metadata": {
        "colab": {
          "base_uri": "https://localhost:8080/"
        },
        "id": "jRIK5PTMsbeC",
        "outputId": "218b88e8-3943-4737-dc38-f8b992b36441"
      },
      "outputs": [
        {
          "output_type": "stream",
          "name": "stdout",
          "text": [
            "Hola Mundo!\n"
          ]
        }
      ],
      "source": [
        "##Aqui se inicializa el curso\n",
        "print(\"Hola Mundo!\")"
      ]
    },
    {
      "cell_type": "code",
      "source": [
        "print('Hello,World!')"
      ],
      "metadata": {
        "colab": {
          "base_uri": "https://localhost:8080/"
        },
        "id": "rrxK9wMuue4s",
        "outputId": "10220a95-c1a7-47b0-d605-5d6a03822748"
      },
      "execution_count": 3,
      "outputs": [
        {
          "output_type": "stream",
          "name": "stdout",
          "text": [
            "Hello,World!\n"
          ]
        }
      ]
    },
    {
      "cell_type": "code",
      "source": [
        "#no siempre se utiliza el print si no se quiere, sin embargo es buena idea usarlo\n",
        "\"hello,World!\""
      ],
      "metadata": {
        "colab": {
          "base_uri": "https://localhost:8080/",
          "height": 35
        },
        "id": "s9-HyiQZvMI3",
        "outputId": "4416f531-cfb4-49c9-bdd5-b89dc0972e0b"
      },
      "execution_count": 4,
      "outputs": [
        {
          "output_type": "execute_result",
          "data": {
            "text/plain": [
              "'hello,World!'"
            ],
            "application/vnd.google.colaboratory.intrinsic+json": {
              "type": "string"
            }
          },
          "metadata": {},
          "execution_count": 4
        }
      ]
    }
  ]
}