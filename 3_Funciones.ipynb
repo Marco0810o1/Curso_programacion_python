{
  "nbformat": 4,
  "nbformat_minor": 0,
  "metadata": {
    "colab": {
      "provenance": [],
      "authorship_tag": "ABX9TyMR6BOSCUoVdnlzjIpRB+hh",
      "include_colab_link": true
    },
    "kernelspec": {
      "name": "python3",
      "display_name": "Python 3"
    },
    "language_info": {
      "name": "python"
    }
  },
  "cells": [
    {
      "cell_type": "markdown",
      "metadata": {
        "id": "view-in-github",
        "colab_type": "text"
      },
      "source": [
        "<a href=\"https://colab.research.google.com/github/Marco0810o1/Curso_programacion_python/blob/main/3_Funciones.ipynb\" target=\"_parent\"><img src=\"https://colab.research.google.com/assets/colab-badge.svg\" alt=\"Open In Colab\"/></a>"
      ]
    },
    {
      "cell_type": "code",
      "execution_count": null,
      "metadata": {
        "id": "zlI0R8JAK_ge"
      },
      "outputs": [],
      "source": []
    },
    {
      "cell_type": "markdown",
      "source": [
        "## Funciones\n",
        "\n",
        "palabras clave: def"
      ],
      "metadata": {
        "id": "LXUSpS_5LAbV"
      }
    },
    {
      "cell_type": "code",
      "source": [
        "def mi_primer_funcion():\n",
        "  print(\"Hola, estoy dentro de la función :) \")"
      ],
      "metadata": {
        "id": "5d2si6gTLt3Q"
      },
      "execution_count": null,
      "outputs": []
    },
    {
      "cell_type": "code",
      "source": [
        "mi_primer_funcion()"
      ],
      "metadata": {
        "colab": {
          "base_uri": "https://localhost:8080/"
        },
        "id": "cmo8olYEM3ZU",
        "outputId": "42cb64b5-16a8-4049-a544-0edf7027ee9b"
      },
      "execution_count": null,
      "outputs": [
        {
          "output_type": "stream",
          "name": "stdout",
          "text": [
            "Hola, estoy dentro de la función :) \n"
          ]
        }
      ]
    },
    {
      "cell_type": "code",
      "source": [
        "#esta funcion regresa un tipo de dato\n",
        "# de tipo noneType\n",
        "mi_variable = mi_primer_funcion()"
      ],
      "metadata": {
        "colab": {
          "base_uri": "https://localhost:8080/"
        },
        "id": "nSzy4GFvNIqM",
        "outputId": "6d7606ff-9aa4-462f-c70f-f515caf124f8"
      },
      "execution_count": null,
      "outputs": [
        {
          "output_type": "stream",
          "name": "stdout",
          "text": [
            "Hola, estoy dentro de la función :) \n"
          ]
        }
      ]
    },
    {
      "cell_type": "code",
      "source": [
        "print(mi_variable)"
      ],
      "metadata": {
        "colab": {
          "base_uri": "https://localhost:8080/"
        },
        "id": "PQN47xxGNTco",
        "outputId": "daca325a-e965-464e-cc5c-fe300030ba0d"
      },
      "execution_count": null,
      "outputs": [
        {
          "output_type": "stream",
          "name": "stdout",
          "text": [
            "None\n"
          ]
        }
      ]
    },
    {
      "cell_type": "code",
      "source": [
        "type(mi_variable)"
      ],
      "metadata": {
        "colab": {
          "base_uri": "https://localhost:8080/"
        },
        "id": "hUAMR7MXNd_v",
        "outputId": "b5044bcf-f917-45aa-c1c5-b6fa65d12085"
      },
      "execution_count": null,
      "outputs": [
        {
          "output_type": "execute_result",
          "data": {
            "text/plain": [
              "NoneType"
            ]
          },
          "metadata": {},
          "execution_count": 11
        }
      ]
    },
    {
      "cell_type": "markdown",
      "source": [
        "#Creando una funcion con argumentos\n",
        "\n",
        "##crear una funvion para obtener el area de un cuadrado"
      ],
      "metadata": {
        "id": "ckeH0peTAo9E"
      }
    },
    {
      "cell_type": "code",
      "source": [
        "#Niven basico\n",
        "def area_cuadrado(lado):\n",
        "  area = lado * lado\n",
        "  return area"
      ],
      "metadata": {
        "id": "0ny1KDDbNg7u"
      },
      "execution_count": 10,
      "outputs": []
    },
    {
      "cell_type": "code",
      "source": [
        "from typing import Union"
      ],
      "metadata": {
        "id": "FMxiA88qCfmM"
      },
      "execution_count": 20,
      "outputs": []
    },
    {
      "cell_type": "code",
      "source": [
        "# Nivel intermedio_avanzado\n",
        "def area_cuadrado(lado: int) -> int:\n",
        "  area = lado * lado\n",
        "  return area"
      ],
      "metadata": {
        "id": "X5YEvwlFCEcv"
      },
      "execution_count": 18,
      "outputs": []
    },
    {
      "cell_type": "code",
      "source": [
        "# Nivel intermedio_avanzado\n",
        "def area_cuadrado(lado: Union [int, float]) -> Union [int, float]:\n",
        "  area = lado * lado\n",
        "  return area"
      ],
      "metadata": {
        "id": "FtRAlgBFDSC0"
      },
      "execution_count": 21,
      "outputs": []
    },
    {
      "cell_type": "code",
      "source": [
        "area_cuadrado(4.5)"
      ],
      "metadata": {
        "colab": {
          "base_uri": "https://localhost:8080/"
        },
        "id": "Q1c5SZWzA70d",
        "outputId": "5fb15406-e47c-4c4c-e847-9bfb572415a7"
      },
      "execution_count": 22,
      "outputs": [
        {
          "output_type": "execute_result",
          "data": {
            "text/plain": [
              "20.25"
            ]
          },
          "metadata": {},
          "execution_count": 22
        }
      ]
    },
    {
      "cell_type": "markdown",
      "source": [
        "# Ejercicio\n",
        "## calcular el area de un circulo, perimetro de un cuadrado"
      ],
      "metadata": {
        "id": "ikNLlJHGDm19"
      }
    },
    {
      "cell_type": "code",
      "source": [
        "def perimetro_cuadrado(L: Union [int, float]) -> Union [int, float]:\n",
        "  p= L + L + L + L\n",
        "  return p\n",
        ""
      ],
      "metadata": {
        "id": "P-zGiACeECgL"
      },
      "execution_count": 28,
      "outputs": []
    },
    {
      "cell_type": "code",
      "source": [
        "perimetro_cuadrado(5)"
      ],
      "metadata": {
        "colab": {
          "base_uri": "https://localhost:8080/"
        },
        "id": "uztkGatTEiW7",
        "outputId": "ff305f3f-2d5f-464a-a5b9-ef7c7f21637d"
      },
      "execution_count": 29,
      "outputs": [
        {
          "output_type": "execute_result",
          "data": {
            "text/plain": [
              "20"
            ]
          },
          "metadata": {},
          "execution_count": 29
        }
      ]
    },
    {
      "cell_type": "code",
      "source": [
        "import math\n",
        "pi = math.pi"
      ],
      "metadata": {
        "colab": {
          "base_uri": "https://localhost:8080/"
        },
        "id": "5ism9d3QE6E5",
        "outputId": "6103e776-cc6c-40c6-e7e1-82bd453c1bf3"
      },
      "execution_count": 33,
      "outputs": [
        {
          "output_type": "execute_result",
          "data": {
            "text/plain": [
              "3.141592653589793"
            ]
          },
          "metadata": {},
          "execution_count": 33
        }
      ]
    },
    {
      "cell_type": "code",
      "source": [
        "def perimetro_circulo(r: Union [int, float]) -> Union [int, float]:\n",
        "  p= 2*pi*r\n",
        "  return p"
      ],
      "metadata": {
        "id": "hJdU1evEFsMT"
      },
      "execution_count": 35,
      "outputs": []
    },
    {
      "cell_type": "code",
      "source": [
        "perimetro_circulo(4.0)"
      ],
      "metadata": {
        "colab": {
          "base_uri": "https://localhost:8080/"
        },
        "id": "0utG7pbIGEkZ",
        "outputId": "fec54788-a342-4742-9cf9-42ea563fde30"
      },
      "execution_count": 36,
      "outputs": [
        {
          "output_type": "execute_result",
          "data": {
            "text/plain": [
              "25.132741228718345"
            ]
          },
          "metadata": {},
          "execution_count": 36
        }
      ]
    },
    {
      "cell_type": "code",
      "source": [
        "def area_circulo(r1: Union [int, float]) -> Union [int, float]:\n",
        "  a = pi*r1**2\n",
        "  return a"
      ],
      "metadata": {
        "id": "x-YmHfx8GIJX"
      },
      "execution_count": 44,
      "outputs": []
    },
    {
      "cell_type": "code",
      "source": [
        "area_circulo(2)"
      ],
      "metadata": {
        "colab": {
          "base_uri": "https://localhost:8080/"
        },
        "id": "BeE1XdW6GoSg",
        "outputId": "78328a3d-8ce8-4d7e-e3bc-d98b071db058"
      },
      "execution_count": 45,
      "outputs": [
        {
          "output_type": "execute_result",
          "data": {
            "text/plain": [
              "12.566370614359172"
            ]
          },
          "metadata": {},
          "execution_count": 45
        }
      ]
    },
    {
      "cell_type": "code",
      "source": [
        "def area_cuadrado(lado: Union [int, float]) -> Union [int, float]:\n",
        "  area = lado * lado\n",
        "  return area"
      ],
      "metadata": {
        "id": "4VAX1sXdGrbW"
      },
      "execution_count": 42,
      "outputs": []
    },
    {
      "cell_type": "code",
      "source": [
        "area_cuadrado(4)"
      ],
      "metadata": {
        "colab": {
          "base_uri": "https://localhost:8080/"
        },
        "id": "6NBQ3OOSHGO_",
        "outputId": "eb716ab0-e8c3-480b-acb8-8b589114ea9c"
      },
      "execution_count": 43,
      "outputs": [
        {
          "output_type": "execute_result",
          "data": {
            "text/plain": [
              "16"
            ]
          },
          "metadata": {},
          "execution_count": 43
        }
      ]
    }
  ]
}