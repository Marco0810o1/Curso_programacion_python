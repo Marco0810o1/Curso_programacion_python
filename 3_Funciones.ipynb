{
  "nbformat": 4,
  "nbformat_minor": 0,
  "metadata": {
    "colab": {
      "provenance": [],
      "authorship_tag": "ABX9TyMTEubYCDCTq0PIyweOVwvu",
      "include_colab_link": true
    },
    "kernelspec": {
      "name": "python3",
      "display_name": "Python 3"
    },
    "language_info": {
      "name": "python"
    }
  },
  "cells": [
    {
      "cell_type": "markdown",
      "metadata": {
        "id": "view-in-github",
        "colab_type": "text"
      },
      "source": [
        "<a href=\"https://colab.research.google.com/github/Marco0810o1/Curso_programacion_python/blob/main/3_Funciones.ipynb\" target=\"_parent\"><img src=\"https://colab.research.google.com/assets/colab-badge.svg\" alt=\"Open In Colab\"/></a>"
      ]
    },
    {
      "cell_type": "code",
      "execution_count": null,
      "metadata": {
        "id": "zlI0R8JAK_ge"
      },
      "outputs": [],
      "source": []
    },
    {
      "cell_type": "markdown",
      "source": [
        "## Funciones\n",
        "\n",
        "palabras clave: def"
      ],
      "metadata": {
        "id": "LXUSpS_5LAbV"
      }
    },
    {
      "cell_type": "code",
      "source": [
        "def mi_primer_funcion():\n",
        "  print(\"Hola, estoy dentro de la función :) \")"
      ],
      "metadata": {
        "id": "5d2si6gTLt3Q"
      },
      "execution_count": null,
      "outputs": []
    },
    {
      "cell_type": "code",
      "source": [
        "mi_primer_funcion()"
      ],
      "metadata": {
        "colab": {
          "base_uri": "https://localhost:8080/"
        },
        "id": "cmo8olYEM3ZU",
        "outputId": "42cb64b5-16a8-4049-a544-0edf7027ee9b"
      },
      "execution_count": null,
      "outputs": [
        {
          "output_type": "stream",
          "name": "stdout",
          "text": [
            "Hola, estoy dentro de la función :) \n"
          ]
        }
      ]
    },
    {
      "cell_type": "code",
      "source": [
        "#esta funcion regresa un tipo de dato\n",
        "# de tipo noneType\n",
        "mi_variable = mi_primer_funcion()"
      ],
      "metadata": {
        "colab": {
          "base_uri": "https://localhost:8080/"
        },
        "id": "nSzy4GFvNIqM",
        "outputId": "6d7606ff-9aa4-462f-c70f-f515caf124f8"
      },
      "execution_count": null,
      "outputs": [
        {
          "output_type": "stream",
          "name": "stdout",
          "text": [
            "Hola, estoy dentro de la función :) \n"
          ]
        }
      ]
    },
    {
      "cell_type": "code",
      "source": [
        "print(mi_variable)"
      ],
      "metadata": {
        "colab": {
          "base_uri": "https://localhost:8080/"
        },
        "id": "PQN47xxGNTco",
        "outputId": "daca325a-e965-464e-cc5c-fe300030ba0d"
      },
      "execution_count": null,
      "outputs": [
        {
          "output_type": "stream",
          "name": "stdout",
          "text": [
            "None\n"
          ]
        }
      ]
    },
    {
      "cell_type": "code",
      "source": [
        "type(mi_variable)"
      ],
      "metadata": {
        "colab": {
          "base_uri": "https://localhost:8080/"
        },
        "id": "hUAMR7MXNd_v",
        "outputId": "b5044bcf-f917-45aa-c1c5-b6fa65d12085"
      },
      "execution_count": null,
      "outputs": [
        {
          "output_type": "execute_result",
          "data": {
            "text/plain": [
              "NoneType"
            ]
          },
          "metadata": {},
          "execution_count": 11
        }
      ]
    },
    {
      "cell_type": "markdown",
      "source": [
        "#Creando una funcion con argumentos\n",
        "\n",
        "##crear una funvion para obtener el area de un cuadrado"
      ],
      "metadata": {
        "id": "ckeH0peTAo9E"
      }
    },
    {
      "cell_type": "code",
      "source": [
        "#Niven basico\n",
        "def area_cuadrado(lado):\n",
        "  area = lado * lado\n",
        "  return area"
      ],
      "metadata": {
        "id": "0ny1KDDbNg7u"
      },
      "execution_count": null,
      "outputs": []
    },
    {
      "cell_type": "code",
      "source": [
        "from typing import Union"
      ],
      "metadata": {
        "id": "FMxiA88qCfmM"
      },
      "execution_count": null,
      "outputs": []
    },
    {
      "cell_type": "code",
      "source": [
        "# Nivel intermedio_avanzado\n",
        "def area_cuadrado(lado: int) -> int:\n",
        "  area = lado * lado\n",
        "  return area"
      ],
      "metadata": {
        "id": "X5YEvwlFCEcv"
      },
      "execution_count": null,
      "outputs": []
    },
    {
      "cell_type": "code",
      "source": [
        "# Nivel intermedio_avanzado\n",
        "def area_cuadrado(lado: Union [int, float]) -> Union [int, float]:\n",
        "  area = lado * lado\n",
        "  return area"
      ],
      "metadata": {
        "id": "FtRAlgBFDSC0"
      },
      "execution_count": null,
      "outputs": []
    },
    {
      "cell_type": "code",
      "source": [
        "area_cuadrado(4.5)"
      ],
      "metadata": {
        "colab": {
          "base_uri": "https://localhost:8080/"
        },
        "id": "Q1c5SZWzA70d",
        "outputId": "5fb15406-e47c-4c4c-e847-9bfb572415a7"
      },
      "execution_count": null,
      "outputs": [
        {
          "output_type": "execute_result",
          "data": {
            "text/plain": [
              "20.25"
            ]
          },
          "metadata": {},
          "execution_count": 22
        }
      ]
    },
    {
      "cell_type": "markdown",
      "source": [
        "# Ejercicio\n",
        "## calcular el area y perimetro de un circulo, perimetro y area de un cuadrado"
      ],
      "metadata": {
        "id": "ikNLlJHGDm19"
      }
    },
    {
      "cell_type": "code",
      "source": [
        "def perimetro_cuadrado(L: Union [int, float]) -> Union [int, float]:\n",
        "  p= L + L + L + L\n",
        "  return p\n"
      ],
      "metadata": {
        "id": "P-zGiACeECgL"
      },
      "execution_count": null,
      "outputs": []
    },
    {
      "cell_type": "code",
      "source": [
        "perimetro_cuadrado(5)"
      ],
      "metadata": {
        "colab": {
          "base_uri": "https://localhost:8080/"
        },
        "id": "uztkGatTEiW7",
        "outputId": "ff305f3f-2d5f-464a-a5b9-ef7c7f21637d"
      },
      "execution_count": null,
      "outputs": [
        {
          "output_type": "execute_result",
          "data": {
            "text/plain": [
              "20"
            ]
          },
          "metadata": {},
          "execution_count": 29
        }
      ]
    },
    {
      "cell_type": "code",
      "source": [
        "import math\n",
        "pi = math.pi"
      ],
      "metadata": {
        "colab": {
          "base_uri": "https://localhost:8080/"
        },
        "id": "5ism9d3QE6E5",
        "outputId": "6103e776-cc6c-40c6-e7e1-82bd453c1bf3"
      },
      "execution_count": null,
      "outputs": [
        {
          "output_type": "execute_result",
          "data": {
            "text/plain": [
              "3.141592653589793"
            ]
          },
          "metadata": {},
          "execution_count": 33
        }
      ]
    },
    {
      "cell_type": "code",
      "source": [
        "def perimetro_circulo(r: Union [int, float]) -> Union [int, float]:\n",
        "  p= 2*pi*r\n",
        "  return p"
      ],
      "metadata": {
        "id": "hJdU1evEFsMT"
      },
      "execution_count": null,
      "outputs": []
    },
    {
      "cell_type": "code",
      "source": [
        "perimetro_circulo(4.0)"
      ],
      "metadata": {
        "colab": {
          "base_uri": "https://localhost:8080/"
        },
        "id": "0utG7pbIGEkZ",
        "outputId": "fec54788-a342-4742-9cf9-42ea563fde30"
      },
      "execution_count": null,
      "outputs": [
        {
          "output_type": "execute_result",
          "data": {
            "text/plain": [
              "25.132741228718345"
            ]
          },
          "metadata": {},
          "execution_count": 36
        }
      ]
    },
    {
      "cell_type": "code",
      "source": [
        "def area_circulo(r1: Union [int, float]) -> Union [int, float]:\n",
        "  a = pi*r1**2\n",
        "  return a"
      ],
      "metadata": {
        "id": "x-YmHfx8GIJX"
      },
      "execution_count": null,
      "outputs": []
    },
    {
      "cell_type": "code",
      "source": [
        "area_circulo(2)"
      ],
      "metadata": {
        "colab": {
          "base_uri": "https://localhost:8080/"
        },
        "id": "BeE1XdW6GoSg",
        "outputId": "78328a3d-8ce8-4d7e-e3bc-d98b071db058"
      },
      "execution_count": null,
      "outputs": [
        {
          "output_type": "execute_result",
          "data": {
            "text/plain": [
              "12.566370614359172"
            ]
          },
          "metadata": {},
          "execution_count": 45
        }
      ]
    },
    {
      "cell_type": "code",
      "source": [
        "def area_cuadrado(lado: Union [int, float]) -> Union [int, float]:\n",
        "  area = lado * lado\n",
        "  return area"
      ],
      "metadata": {
        "id": "4VAX1sXdGrbW"
      },
      "execution_count": null,
      "outputs": []
    },
    {
      "cell_type": "code",
      "source": [
        "area_cuadrado(4)"
      ],
      "metadata": {
        "colab": {
          "base_uri": "https://localhost:8080/"
        },
        "id": "6NBQ3OOSHGO_",
        "outputId": "eb716ab0-e8c3-480b-acb8-8b589114ea9c"
      },
      "execution_count": null,
      "outputs": [
        {
          "output_type": "execute_result",
          "data": {
            "text/plain": [
              "16"
            ]
          },
          "metadata": {},
          "execution_count": 43
        }
      ]
    },
    {
      "cell_type": "markdown",
      "source": [
        "#Ejercicio comparación"
      ],
      "metadata": {
        "id": "z3h_VXHlQGkW"
      }
    },
    {
      "cell_type": "code",
      "source": [
        "#Ejericio 1\n",
        "diez = 10\n",
        "veinte = 20"
      ],
      "metadata": {
        "id": "SFUcYwmpQK_H"
      },
      "execution_count": null,
      "outputs": []
    },
    {
      "cell_type": "code",
      "source": [
        "print(diez >= veinte)"
      ],
      "metadata": {
        "colab": {
          "base_uri": "https://localhost:8080/"
        },
        "id": "A7l9h8zpQVUe",
        "outputId": "b99ad3f6-c0c9-4dd6-caaa-65fce1f0b814"
      },
      "execution_count": null,
      "outputs": [
        {
          "output_type": "stream",
          "name": "stdout",
          "text": [
            "False\n"
          ]
        }
      ]
    },
    {
      "cell_type": "code",
      "source": [
        "#Ejercicio 2\n",
        "int(20)\n",
        "str(20.0001)\n",
        "print(20 < 20.0001)"
      ],
      "metadata": {
        "colab": {
          "base_uri": "https://localhost:8080/"
        },
        "id": "Pt1sUXl3QdTB",
        "outputId": "f687a9d7-948e-4a74-d649-d2a56f8dbf0d"
      },
      "execution_count": null,
      "outputs": [
        {
          "output_type": "stream",
          "name": "stdout",
          "text": [
            "True\n"
          ]
        }
      ]
    },
    {
      "cell_type": "code",
      "source": [
        "#Ejercicio 4\n",
        "texto_1 = 'Marty! Tienes que venir conmigo, de regreso al futuro!'\n",
        "texto_2 = 'Marty! Tienes que venir conmigo, de regreso a1 futuro!'"
      ],
      "metadata": {
        "id": "9pde_gZpRV03"
      },
      "execution_count": null,
      "outputs": []
    },
    {
      "cell_type": "code",
      "source": [
        "print(texto_1 == texto_2)"
      ],
      "metadata": {
        "colab": {
          "base_uri": "https://localhost:8080/"
        },
        "id": "lEZGRmlXRgrs",
        "outputId": "18db300a-a27f-4c1c-9aa6-00d1fd3a14dc"
      },
      "execution_count": null,
      "outputs": [
        {
          "output_type": "stream",
          "name": "stdout",
          "text": [
            "False\n"
          ]
        }
      ]
    },
    {
      "cell_type": "code",
      "source": [
        "#Ejercicio 5\n",
        "frase_1 = 'Marty, lo siento, pero la única fuente de poder capaz de generar 1.21 giga watts de potencia eléctrica es un rayo'\n",
        "frase_2 = 'Marty, lo siento, pero la única fuente de poder capaz de generar 1.21 giga watts de potencia e1éctrica es un rayo'"
      ],
      "metadata": {
        "id": "lWREk30iRrzO"
      },
      "execution_count": null,
      "outputs": []
    },
    {
      "cell_type": "code",
      "source": [
        "print(frase_1 != frase_2)"
      ],
      "metadata": {
        "colab": {
          "base_uri": "https://localhost:8080/"
        },
        "id": "p5FeN5NlRxn1",
        "outputId": "d60e771a-85ea-46ac-9fbf-6625286a95d3"
      },
      "execution_count": null,
      "outputs": [
        {
          "output_type": "stream",
          "name": "stdout",
          "text": [
            "True\n"
          ]
        }
      ]
    },
    {
      "cell_type": "markdown",
      "source": [
        "#Operadores logicos"
      ],
      "metadata": {
        "id": "FhGIzniYTkBY"
      }
    },
    {
      "cell_type": "code",
      "source": [
        "dia = 'lunes', 'martes', 'miercoles', 'jueves', 'viernes', 'sabado', 'domingo'\n",
        "day = input('Ingrese un día de la semana: ')\n",
        "print(day)\n",
        "if day == 'lunes':\n",
        "  print('Principio de semana\\nPrincipio de semana?\\nNo voy a trabajar!\\n')\n",
        "elif day == 'martes':\n",
        "  print('Ni te cases ni te embarques,\\nPa´ que voy a arriesgarme\\nNo voy a trabajar!\\n')\n",
        "elif day == 'miercoles':\n",
        "  print('Se casa la patrona\\nAy que pachangona!\\nNo voy a trabajar!')\n",
        "elif day == 'jueves':\n",
        "  print('Estoy muy desvelado\\nMe siento hasta mareado\\nNo voy a trabajar!')\n",
        "elif day == 'viernes':\n",
        "  print('Que muere jesucristo!\\nDonde se ha visto?\\nNo voy a trabajar!')\n",
        "elif day == 'sabado':\n",
        "  print('Trabajo medio día\\nPor medio día\\nNo voy a trabajar!')\n",
        "elif day == 'domingo':\n",
        "  print('Día de descanso\\nBien merecido\\nNo voy a trabajar!')\n",
        "else:\n",
        "  print('ese dia no es compatible')"
      ],
      "metadata": {
        "id": "GS0HRddBTjc5",
        "colab": {
          "base_uri": "https://localhost:8080/"
        },
        "outputId": "cf467fea-c092-4c8e-edea-d1dc20c33a9a"
      },
      "execution_count": 27,
      "outputs": [
        {
          "output_type": "stream",
          "name": "stdout",
          "text": [
            "Ingrese un día de la semana: Domingo\n",
            "Domingo\n",
            "ese dia no es compatible\n"
          ]
        }
      ]
    },
    {
      "cell_type": "code",
      "source": [
        "day = 'lunes' # se agrega el dia de la semana que se ocupe\n",
        "print(day)\n",
        "if day == 'lunes':\n",
        "  print('Principio de semana\\nPrincipio de semana?\\nNo voy a trabajar!\\n')\n",
        "elif day == 'martes':\n",
        "  print('Ni te cases ni te embarques,\\nPa´ que voy a arriesgarme\\nNo voy a trabajar!\\n')\n",
        "elif day == 'miercoles':\n",
        "  print('Se casa la patrona\\nAy que pachangona!\\nNo voy a trabajar!')\n",
        "elif day == 'jueves':\n",
        "  print('Estoy muy desvelado\\nMe siento hasta mareado\\nNo voy a trabajar!')\n",
        "elif day == 'viernes':\n",
        "  print('Que muere jesucristo!\\nDonde se ha visto?\\nNo voy a trabajar!')\n",
        "elif day == 'sabado':\n",
        "  print('Trabajo medio día\\nPor medio día\\nNo voy a trabajar!')\n",
        "elif day == 'domingo':\n",
        "  print('Día de descanso\\nBien merecido\\nNo voy a trabajar!')"
      ],
      "metadata": {
        "id": "s8m1wSDNxgip",
        "outputId": "707493f6-8d69-4ece-a652-5b8bd8d04376",
        "colab": {
          "base_uri": "https://localhost:8080/"
        }
      },
      "execution_count": 33,
      "outputs": [
        {
          "output_type": "stream",
          "name": "stdout",
          "text": [
            "martes\n",
            "Ni te cases ni te embarques,\n",
            "Pa´ que voy a arriesgarme\n",
            "No voy a trabajar!\n",
            "\n"
          ]
        }
      ]
    }
  ]
}